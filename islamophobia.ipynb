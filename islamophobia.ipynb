{
 "cells": [
  {
   "cell_type": "code",
   "execution_count": 18,
   "metadata": {
    "_cell_guid": "b1076dfc-b9ad-4769-8c92-a6c4dae69d19",
    "_uuid": "8f2839f25d086af736a60e9eeb907d3b93b6e0e5",
    "execution": {
     "iopub.execute_input": "2021-09-13T08:36:12.718679Z",
     "iopub.status.busy": "2021-09-13T08:36:12.718243Z",
     "iopub.status.idle": "2021-09-13T08:36:12.747769Z",
     "shell.execute_reply": "2021-09-13T08:36:12.746492Z",
     "shell.execute_reply.started": "2021-09-13T08:36:12.718594Z"
    }
   },
   "outputs": [],
   "source": [
    "# This Python 3 environment comes with many helpful analytics libraries installed\n",
    "# It is defined by the kaggle/python Docker image: https://github.com/kaggle/docker-python\n",
    "# For example, here's several helpful packages to load\n",
    "\n",
    "import numpy as np # linear algebra\n",
    "import pandas as pd # data processing, CSV file I/O (e.g. pd.read_csv)\n",
    "\n",
    "# Input data files are available in the read-only \"../input/\" directory\n",
    "# For example, running this (by clicking run or pressing Shift+Enter) will list all files under the input directory\n",
    "\n",
    "import os\n",
    "for dirname, _, filenames in os.walk('/kaggle/input'):\n",
    "    for filename in filenames:\n",
    "        print(os.path.join(dirname, filename))\n",
    "\n",
    "# You can write up to 20GB to the current directory (/kaggle/working/) that gets preserved as output when you create a version using \"Save & Run All\" \n",
    "# You can also write temporary files to /kaggle/temp/, but they won't be saved outside of the current session"
   ]
  },
  {
   "cell_type": "code",
   "execution_count": 19,
   "metadata": {
    "execution": {
     "iopub.execute_input": "2021-09-13T08:36:12.750189Z",
     "iopub.status.busy": "2021-09-13T08:36:12.749732Z",
     "iopub.status.idle": "2021-09-13T08:36:12.866596Z",
     "shell.execute_reply": "2021-09-13T08:36:12.865082Z",
     "shell.execute_reply.started": "2021-09-13T08:36:12.750146Z"
    }
   },
   "outputs": [
    {
     "data": {
      "text/html": [
       "<div>\n",
       "<style scoped>\n",
       "    .dataframe tbody tr th:only-of-type {\n",
       "        vertical-align: middle;\n",
       "    }\n",
       "\n",
       "    .dataframe tbody tr th {\n",
       "        vertical-align: top;\n",
       "    }\n",
       "\n",
       "    .dataframe thead th {\n",
       "        text-align: right;\n",
       "    }\n",
       "</style>\n",
       "<table border=\"1\" class=\"dataframe\">\n",
       "  <thead>\n",
       "    <tr style=\"text-align: right;\">\n",
       "      <th></th>\n",
       "      <th>Annotation</th>\n",
       "      <th>Unnamed: 1</th>\n",
       "      <th>Text</th>\n",
       "    </tr>\n",
       "  </thead>\n",
       "  <tbody>\n",
       "    <tr>\n",
       "      <th>0</th>\n",
       "      <td>NaN</td>\n",
       "      <td>0</td>\n",
       "      <td>#JusticeForAgraKiBeti\\n#Protect_Hindu_Girls \\n...</td>\n",
       "    </tr>\n",
       "    <tr>\n",
       "      <th>1</th>\n",
       "      <td>3.0</td>\n",
       "      <td>1</td>\n",
       "      <td>Group Selfie 🤳 #Apple #AbhinavShukla #Airdrop ...</td>\n",
       "    </tr>\n",
       "    <tr>\n",
       "      <th>2</th>\n",
       "      <td>3.0</td>\n",
       "      <td>2</td>\n",
       "      <td>News outlets and social media claimed that Meh...</td>\n",
       "    </tr>\n",
       "    <tr>\n",
       "      <th>3</th>\n",
       "      <td>3.0</td>\n",
       "      <td>3</td>\n",
       "      <td>News outlets and social media claimed that Meh...</td>\n",
       "    </tr>\n",
       "    <tr>\n",
       "      <th>4</th>\n",
       "      <td>3.0</td>\n",
       "      <td>4</td>\n",
       "      <td>News outlets and social media claimed that Meh...</td>\n",
       "    </tr>\n",
       "    <tr>\n",
       "      <th>...</th>\n",
       "      <td>...</td>\n",
       "      <td>...</td>\n",
       "      <td>...</td>\n",
       "    </tr>\n",
       "    <tr>\n",
       "      <th>565</th>\n",
       "      <td>1.0</td>\n",
       "      <td>565</td>\n",
       "      <td>@IrfanPathan Y fooling around buddy, u want to...</td>\n",
       "    </tr>\n",
       "    <tr>\n",
       "      <th>566</th>\n",
       "      <td>3.0</td>\n",
       "      <td>566</td>\n",
       "      <td>The Uttar Pradesh Population Bill, 2021 has tr...</td>\n",
       "    </tr>\n",
       "    <tr>\n",
       "      <th>567</th>\n",
       "      <td>1.0</td>\n",
       "      <td>567</td>\n",
       "      <td>@rockyandmayur @mehartweets @atti_cus @amaanba...</td>\n",
       "    </tr>\n",
       "    <tr>\n",
       "      <th>568</th>\n",
       "      <td>3.0</td>\n",
       "      <td>568</td>\n",
       "      <td>By treating children with disability as non-ex...</td>\n",
       "    </tr>\n",
       "    <tr>\n",
       "      <th>569</th>\n",
       "      <td>2.0</td>\n",
       "      <td>569</td>\n",
       "      <td>@rose_k01 @zainabsikander The connection is th...</td>\n",
       "    </tr>\n",
       "  </tbody>\n",
       "</table>\n",
       "<p>570 rows × 3 columns</p>\n",
       "</div>"
      ],
      "text/plain": [
       "     Annotation  Unnamed: 1                                               Text\n",
       "0           NaN           0  #JusticeForAgraKiBeti\\n#Protect_Hindu_Girls \\n...\n",
       "1           3.0           1  Group Selfie 🤳 #Apple #AbhinavShukla #Airdrop ...\n",
       "2           3.0           2  News outlets and social media claimed that Meh...\n",
       "3           3.0           3  News outlets and social media claimed that Meh...\n",
       "4           3.0           4  News outlets and social media claimed that Meh...\n",
       "..          ...         ...                                                ...\n",
       "565         1.0         565  @IrfanPathan Y fooling around buddy, u want to...\n",
       "566         3.0         566  The Uttar Pradesh Population Bill, 2021 has tr...\n",
       "567         1.0         567  @rockyandmayur @mehartweets @atti_cus @amaanba...\n",
       "568         3.0         568  By treating children with disability as non-ex...\n",
       "569         2.0         569  @rose_k01 @zainabsikander The connection is th...\n",
       "\n",
       "[570 rows x 3 columns]"
      ]
     },
     "execution_count": 19,
     "metadata": {},
     "output_type": "execute_result"
    }
   ],
   "source": [
    "df=pd.read_csv('final data islamophobic (1).csv')\n",
    "df"
   ]
  },
  {
   "cell_type": "code",
   "execution_count": 20,
   "metadata": {
    "execution": {
     "iopub.execute_input": "2021-09-13T08:36:12.869490Z",
     "iopub.status.busy": "2021-09-13T08:36:12.869027Z",
     "iopub.status.idle": "2021-09-13T08:36:12.882703Z",
     "shell.execute_reply": "2021-09-13T08:36:12.880995Z",
     "shell.execute_reply.started": "2021-09-13T08:36:12.869446Z"
    }
   },
   "outputs": [
    {
     "data": {
      "text/plain": [
       "3.0     474\n",
       "1.0      56\n",
       "2.0      16\n",
       "33.0      1\n",
       "Name: Annotation, dtype: int64"
      ]
     },
     "execution_count": 20,
     "metadata": {},
     "output_type": "execute_result"
    }
   ],
   "source": [
    "df['Annotation'].value_counts()"
   ]
  },
  {
   "cell_type": "code",
   "execution_count": 21,
   "metadata": {
    "execution": {
     "iopub.execute_input": "2021-09-13T08:36:22.161332Z",
     "iopub.status.busy": "2021-09-13T08:36:22.160888Z",
     "iopub.status.idle": "2021-09-13T08:36:22.168603Z",
     "shell.execute_reply": "2021-09-13T08:36:22.167557Z",
     "shell.execute_reply.started": "2021-09-13T08:36:22.161282Z"
    }
   },
   "outputs": [],
   "source": [
    "df.drop('Unnamed: 1',axis=1,inplace=True)"
   ]
  },
  {
   "cell_type": "code",
   "execution_count": 22,
   "metadata": {
    "execution": {
     "iopub.execute_input": "2021-09-13T08:36:22.377187Z",
     "iopub.status.busy": "2021-09-13T08:36:22.376863Z",
     "iopub.status.idle": "2021-09-13T08:36:22.402354Z",
     "shell.execute_reply": "2021-09-13T08:36:22.401375Z",
     "shell.execute_reply.started": "2021-09-13T08:36:22.377157Z"
    }
   },
   "outputs": [],
   "source": [
    "df=df.dropna()"
   ]
  },
  {
   "cell_type": "code",
   "execution_count": 23,
   "metadata": {
    "execution": {
     "iopub.execute_input": "2021-09-13T08:36:22.554257Z",
     "iopub.status.busy": "2021-09-13T08:36:22.553835Z",
     "iopub.status.idle": "2021-09-13T08:36:22.560311Z",
     "shell.execute_reply": "2021-09-13T08:36:22.559003Z",
     "shell.execute_reply.started": "2021-09-13T08:36:22.554207Z"
    }
   },
   "outputs": [],
   "source": [
    "df.reset_index(drop=True,inplace=True)"
   ]
  },
  {
   "cell_type": "code",
   "execution_count": 24,
   "metadata": {
    "execution": {
     "iopub.execute_input": "2021-09-13T08:36:22.755642Z",
     "iopub.status.busy": "2021-09-13T08:36:22.755270Z",
     "iopub.status.idle": "2021-09-13T08:36:22.766410Z",
     "shell.execute_reply": "2021-09-13T08:36:22.764697Z",
     "shell.execute_reply.started": "2021-09-13T08:36:22.755613Z"
    }
   },
   "outputs": [
    {
     "name": "stderr",
     "output_type": "stream",
     "text": [
      "C:\\Users\\Asus\\anaconda3\\lib\\site-packages\\pandas\\core\\indexing.py:1817: SettingWithCopyWarning: \n",
      "A value is trying to be set on a copy of a slice from a DataFrame.\n",
      "Try using .loc[row_indexer,col_indexer] = value instead\n",
      "\n",
      "See the caveats in the documentation: https://pandas.pydata.org/pandas-docs/stable/user_guide/indexing.html#returning-a-view-versus-a-copy\n",
      "  self._setitem_single_column(loc, value, pi)\n"
     ]
    }
   ],
   "source": [
    "df.loc[375,'Annotation']=3.0"
   ]
  },
  {
   "cell_type": "code",
   "execution_count": 25,
   "metadata": {
    "execution": {
     "iopub.execute_input": "2021-09-13T08:36:24.713290Z",
     "iopub.status.busy": "2021-09-13T08:36:24.712908Z",
     "iopub.status.idle": "2021-09-13T08:36:24.730230Z",
     "shell.execute_reply": "2021-09-13T08:36:24.728677Z",
     "shell.execute_reply.started": "2021-09-13T08:36:24.713258Z"
    }
   },
   "outputs": [
    {
     "data": {
      "text/html": [
       "<div>\n",
       "<style scoped>\n",
       "    .dataframe tbody tr th:only-of-type {\n",
       "        vertical-align: middle;\n",
       "    }\n",
       "\n",
       "    .dataframe tbody tr th {\n",
       "        vertical-align: top;\n",
       "    }\n",
       "\n",
       "    .dataframe thead th {\n",
       "        text-align: right;\n",
       "    }\n",
       "</style>\n",
       "<table border=\"1\" class=\"dataframe\">\n",
       "  <thead>\n",
       "    <tr style=\"text-align: right;\">\n",
       "      <th></th>\n",
       "      <th>Annotation</th>\n",
       "      <th>Text</th>\n",
       "    </tr>\n",
       "  </thead>\n",
       "  <tbody>\n",
       "    <tr>\n",
       "      <th>0</th>\n",
       "      <td>3.0</td>\n",
       "      <td>Group Selfie 🤳 #Apple #AbhinavShukla #Airdrop ...</td>\n",
       "    </tr>\n",
       "    <tr>\n",
       "      <th>1</th>\n",
       "      <td>3.0</td>\n",
       "      <td>News outlets and social media claimed that Meh...</td>\n",
       "    </tr>\n",
       "    <tr>\n",
       "      <th>2</th>\n",
       "      <td>3.0</td>\n",
       "      <td>News outlets and social media claimed that Meh...</td>\n",
       "    </tr>\n",
       "    <tr>\n",
       "      <th>3</th>\n",
       "      <td>3.0</td>\n",
       "      <td>News outlets and social media claimed that Meh...</td>\n",
       "    </tr>\n",
       "    <tr>\n",
       "      <th>4</th>\n",
       "      <td>3.0</td>\n",
       "      <td>News outlets and social media claimed that Meh...</td>\n",
       "    </tr>\n",
       "    <tr>\n",
       "      <th>...</th>\n",
       "      <td>...</td>\n",
       "      <td>...</td>\n",
       "    </tr>\n",
       "    <tr>\n",
       "      <th>542</th>\n",
       "      <td>1.0</td>\n",
       "      <td>@IrfanPathan Y fooling around buddy, u want to...</td>\n",
       "    </tr>\n",
       "    <tr>\n",
       "      <th>543</th>\n",
       "      <td>3.0</td>\n",
       "      <td>The Uttar Pradesh Population Bill, 2021 has tr...</td>\n",
       "    </tr>\n",
       "    <tr>\n",
       "      <th>544</th>\n",
       "      <td>1.0</td>\n",
       "      <td>@rockyandmayur @mehartweets @atti_cus @amaanba...</td>\n",
       "    </tr>\n",
       "    <tr>\n",
       "      <th>545</th>\n",
       "      <td>3.0</td>\n",
       "      <td>By treating children with disability as non-ex...</td>\n",
       "    </tr>\n",
       "    <tr>\n",
       "      <th>546</th>\n",
       "      <td>2.0</td>\n",
       "      <td>@rose_k01 @zainabsikander The connection is th...</td>\n",
       "    </tr>\n",
       "  </tbody>\n",
       "</table>\n",
       "<p>547 rows × 2 columns</p>\n",
       "</div>"
      ],
      "text/plain": [
       "     Annotation                                               Text\n",
       "0           3.0  Group Selfie 🤳 #Apple #AbhinavShukla #Airdrop ...\n",
       "1           3.0  News outlets and social media claimed that Meh...\n",
       "2           3.0  News outlets and social media claimed that Meh...\n",
       "3           3.0  News outlets and social media claimed that Meh...\n",
       "4           3.0  News outlets and social media claimed that Meh...\n",
       "..          ...                                                ...\n",
       "542         1.0  @IrfanPathan Y fooling around buddy, u want to...\n",
       "543         3.0  The Uttar Pradesh Population Bill, 2021 has tr...\n",
       "544         1.0  @rockyandmayur @mehartweets @atti_cus @amaanba...\n",
       "545         3.0  By treating children with disability as non-ex...\n",
       "546         2.0  @rose_k01 @zainabsikander The connection is th...\n",
       "\n",
       "[547 rows x 2 columns]"
      ]
     },
     "execution_count": 25,
     "metadata": {},
     "output_type": "execute_result"
    }
   ],
   "source": [
    "df"
   ]
  },
  {
   "cell_type": "code",
   "execution_count": 26,
   "metadata": {
    "execution": {
     "iopub.execute_input": "2021-09-13T08:36:24.932426Z",
     "iopub.status.busy": "2021-09-13T08:36:24.932020Z",
     "iopub.status.idle": "2021-09-13T08:36:24.939406Z",
     "shell.execute_reply": "2021-09-13T08:36:24.938188Z",
     "shell.execute_reply.started": "2021-09-13T08:36:24.932391Z"
    }
   },
   "outputs": [],
   "source": [
    "df=df.astype({'Annotation': 'int64'})"
   ]
  },
  {
   "cell_type": "code",
   "execution_count": 27,
   "metadata": {
    "execution": {
     "iopub.execute_input": "2021-09-13T08:36:26.995792Z",
     "iopub.status.busy": "2021-09-13T08:36:26.995434Z",
     "iopub.status.idle": "2021-09-13T08:36:27.008607Z",
     "shell.execute_reply": "2021-09-13T08:36:27.007262Z",
     "shell.execute_reply.started": "2021-09-13T08:36:26.995761Z"
    }
   },
   "outputs": [
    {
     "data": {
      "text/plain": [
       "Annotation     int64\n",
       "Text          object\n",
       "dtype: object"
      ]
     },
     "execution_count": 27,
     "metadata": {},
     "output_type": "execute_result"
    }
   ],
   "source": [
    "df.dtypes"
   ]
  },
  {
   "cell_type": "code",
   "execution_count": 28,
   "metadata": {
    "execution": {
     "iopub.execute_input": "2021-09-13T08:36:28.523622Z",
     "iopub.status.busy": "2021-09-13T08:36:28.523133Z",
     "iopub.status.idle": "2021-09-13T08:36:28.554230Z",
     "shell.execute_reply": "2021-09-13T08:36:28.553153Z",
     "shell.execute_reply.started": "2021-09-13T08:36:28.523588Z"
    }
   },
   "outputs": [
    {
     "data": {
      "text/html": [
       "<div>\n",
       "<style scoped>\n",
       "    .dataframe tbody tr th:only-of-type {\n",
       "        vertical-align: middle;\n",
       "    }\n",
       "\n",
       "    .dataframe tbody tr th {\n",
       "        vertical-align: top;\n",
       "    }\n",
       "\n",
       "    .dataframe thead th {\n",
       "        text-align: right;\n",
       "    }\n",
       "</style>\n",
       "<table border=\"1\" class=\"dataframe\">\n",
       "  <thead>\n",
       "    <tr style=\"text-align: right;\">\n",
       "      <th></th>\n",
       "      <th>Annotation</th>\n",
       "      <th>Unnamed: 1</th>\n",
       "      <th>Text</th>\n",
       "    </tr>\n",
       "  </thead>\n",
       "  <tbody>\n",
       "    <tr>\n",
       "      <th>0</th>\n",
       "      <td>NaN</td>\n",
       "      <td>0</td>\n",
       "      <td>#JusticeForAgraKiBeti\\n#Protect_Hindu_Girls \\n...</td>\n",
       "    </tr>\n",
       "    <tr>\n",
       "      <th>1</th>\n",
       "      <td>3.0</td>\n",
       "      <td>1</td>\n",
       "      <td>Group Selfie 🤳 #Apple #AbhinavShukla #Airdrop ...</td>\n",
       "    </tr>\n",
       "    <tr>\n",
       "      <th>2</th>\n",
       "      <td>3.0</td>\n",
       "      <td>2</td>\n",
       "      <td>News outlets and social media claimed that Meh...</td>\n",
       "    </tr>\n",
       "    <tr>\n",
       "      <th>3</th>\n",
       "      <td>3.0</td>\n",
       "      <td>3</td>\n",
       "      <td>News outlets and social media claimed that Meh...</td>\n",
       "    </tr>\n",
       "    <tr>\n",
       "      <th>4</th>\n",
       "      <td>3.0</td>\n",
       "      <td>4</td>\n",
       "      <td>News outlets and social media claimed that Meh...</td>\n",
       "    </tr>\n",
       "    <tr>\n",
       "      <th>...</th>\n",
       "      <td>...</td>\n",
       "      <td>...</td>\n",
       "      <td>...</td>\n",
       "    </tr>\n",
       "    <tr>\n",
       "      <th>565</th>\n",
       "      <td>1.0</td>\n",
       "      <td>565</td>\n",
       "      <td>@IrfanPathan Y fooling around buddy, u want to...</td>\n",
       "    </tr>\n",
       "    <tr>\n",
       "      <th>566</th>\n",
       "      <td>3.0</td>\n",
       "      <td>566</td>\n",
       "      <td>The Uttar Pradesh Population Bill, 2021 has tr...</td>\n",
       "    </tr>\n",
       "    <tr>\n",
       "      <th>567</th>\n",
       "      <td>1.0</td>\n",
       "      <td>567</td>\n",
       "      <td>@rockyandmayur @mehartweets @atti_cus @amaanba...</td>\n",
       "    </tr>\n",
       "    <tr>\n",
       "      <th>568</th>\n",
       "      <td>3.0</td>\n",
       "      <td>568</td>\n",
       "      <td>By treating children with disability as non-ex...</td>\n",
       "    </tr>\n",
       "    <tr>\n",
       "      <th>569</th>\n",
       "      <td>2.0</td>\n",
       "      <td>569</td>\n",
       "      <td>@rose_k01 @zainabsikander The connection is th...</td>\n",
       "    </tr>\n",
       "  </tbody>\n",
       "</table>\n",
       "<p>570 rows × 3 columns</p>\n",
       "</div>"
      ],
      "text/plain": [
       "     Annotation  Unnamed: 1                                               Text\n",
       "0           NaN           0  #JusticeForAgraKiBeti\\n#Protect_Hindu_Girls \\n...\n",
       "1           3.0           1  Group Selfie 🤳 #Apple #AbhinavShukla #Airdrop ...\n",
       "2           3.0           2  News outlets and social media claimed that Meh...\n",
       "3           3.0           3  News outlets and social media claimed that Meh...\n",
       "4           3.0           4  News outlets and social media claimed that Meh...\n",
       "..          ...         ...                                                ...\n",
       "565         1.0         565  @IrfanPathan Y fooling around buddy, u want to...\n",
       "566         3.0         566  The Uttar Pradesh Population Bill, 2021 has tr...\n",
       "567         1.0         567  @rockyandmayur @mehartweets @atti_cus @amaanba...\n",
       "568         3.0         568  By treating children with disability as non-ex...\n",
       "569         2.0         569  @rose_k01 @zainabsikander The connection is th...\n",
       "\n",
       "[570 rows x 3 columns]"
      ]
     },
     "execution_count": 28,
     "metadata": {},
     "output_type": "execute_result"
    }
   ],
   "source": [
    "df1=pd.read_csv('final data islamophobic (1).csv')\n",
    "df1"
   ]
  },
  {
   "cell_type": "code",
   "execution_count": 29,
   "metadata": {
    "execution": {
     "iopub.execute_input": "2021-09-13T08:36:29.836187Z",
     "iopub.status.busy": "2021-09-13T08:36:29.835757Z",
     "iopub.status.idle": "2021-09-13T08:36:29.847148Z",
     "shell.execute_reply": "2021-09-13T08:36:29.845776Z",
     "shell.execute_reply.started": "2021-09-13T08:36:29.836156Z"
    }
   },
   "outputs": [
    {
     "data": {
      "text/plain": [
       "3.0     474\n",
       "1.0      56\n",
       "2.0      16\n",
       "33.0      1\n",
       "Name: Annotation, dtype: int64"
      ]
     },
     "execution_count": 29,
     "metadata": {},
     "output_type": "execute_result"
    }
   ],
   "source": [
    "df1['Annotation'].value_counts()"
   ]
  },
  {
   "cell_type": "code",
   "execution_count": 30,
   "metadata": {
    "execution": {
     "iopub.execute_input": "2021-09-13T08:36:30.252665Z",
     "iopub.status.busy": "2021-09-13T08:36:30.252218Z",
     "iopub.status.idle": "2021-09-13T08:36:30.259917Z",
     "shell.execute_reply": "2021-09-13T08:36:30.257915Z",
     "shell.execute_reply.started": "2021-09-13T08:36:30.252634Z"
    }
   },
   "outputs": [
    {
     "ename": "KeyError",
     "evalue": "\"['Unnamed: 0'] not found in axis\"",
     "output_type": "error",
     "traceback": [
      "\u001b[1;31m---------------------------------------------------------------------------\u001b[0m",
      "\u001b[1;31mKeyError\u001b[0m                                  Traceback (most recent call last)",
      "\u001b[1;32m~\\AppData\\Local\\Temp/ipykernel_16044/4113078805.py\u001b[0m in \u001b[0;36m<module>\u001b[1;34m\u001b[0m\n\u001b[1;32m----> 1\u001b[1;33m \u001b[0mdf1\u001b[0m\u001b[1;33m.\u001b[0m\u001b[0mdrop\u001b[0m\u001b[1;33m(\u001b[0m\u001b[1;34m'Unnamed: 0'\u001b[0m\u001b[1;33m,\u001b[0m\u001b[0maxis\u001b[0m\u001b[1;33m=\u001b[0m\u001b[1;36m1\u001b[0m\u001b[1;33m,\u001b[0m\u001b[0minplace\u001b[0m\u001b[1;33m=\u001b[0m\u001b[1;32mTrue\u001b[0m\u001b[1;33m)\u001b[0m\u001b[1;33m\u001b[0m\u001b[1;33m\u001b[0m\u001b[0m\n\u001b[0m",
      "\u001b[1;32m~\\anaconda3\\lib\\site-packages\\pandas\\util\\_decorators.py\u001b[0m in \u001b[0;36mwrapper\u001b[1;34m(*args, **kwargs)\u001b[0m\n\u001b[0;32m    309\u001b[0m                     \u001b[0mstacklevel\u001b[0m\u001b[1;33m=\u001b[0m\u001b[0mstacklevel\u001b[0m\u001b[1;33m,\u001b[0m\u001b[1;33m\u001b[0m\u001b[1;33m\u001b[0m\u001b[0m\n\u001b[0;32m    310\u001b[0m                 )\n\u001b[1;32m--> 311\u001b[1;33m             \u001b[1;32mreturn\u001b[0m \u001b[0mfunc\u001b[0m\u001b[1;33m(\u001b[0m\u001b[1;33m*\u001b[0m\u001b[0margs\u001b[0m\u001b[1;33m,\u001b[0m \u001b[1;33m**\u001b[0m\u001b[0mkwargs\u001b[0m\u001b[1;33m)\u001b[0m\u001b[1;33m\u001b[0m\u001b[1;33m\u001b[0m\u001b[0m\n\u001b[0m\u001b[0;32m    312\u001b[0m \u001b[1;33m\u001b[0m\u001b[0m\n\u001b[0;32m    313\u001b[0m         \u001b[1;32mreturn\u001b[0m \u001b[0mwrapper\u001b[0m\u001b[1;33m\u001b[0m\u001b[1;33m\u001b[0m\u001b[0m\n",
      "\u001b[1;32m~\\anaconda3\\lib\\site-packages\\pandas\\core\\frame.py\u001b[0m in \u001b[0;36mdrop\u001b[1;34m(self, labels, axis, index, columns, level, inplace, errors)\u001b[0m\n\u001b[0;32m   4904\u001b[0m                 \u001b[0mweight\u001b[0m  \u001b[1;36m1.0\u001b[0m     \u001b[1;36m0.8\u001b[0m\u001b[1;33m\u001b[0m\u001b[1;33m\u001b[0m\u001b[0m\n\u001b[0;32m   4905\u001b[0m         \"\"\"\n\u001b[1;32m-> 4906\u001b[1;33m         return super().drop(\n\u001b[0m\u001b[0;32m   4907\u001b[0m             \u001b[0mlabels\u001b[0m\u001b[1;33m=\u001b[0m\u001b[0mlabels\u001b[0m\u001b[1;33m,\u001b[0m\u001b[1;33m\u001b[0m\u001b[1;33m\u001b[0m\u001b[0m\n\u001b[0;32m   4908\u001b[0m             \u001b[0maxis\u001b[0m\u001b[1;33m=\u001b[0m\u001b[0maxis\u001b[0m\u001b[1;33m,\u001b[0m\u001b[1;33m\u001b[0m\u001b[1;33m\u001b[0m\u001b[0m\n",
      "\u001b[1;32m~\\anaconda3\\lib\\site-packages\\pandas\\core\\generic.py\u001b[0m in \u001b[0;36mdrop\u001b[1;34m(self, labels, axis, index, columns, level, inplace, errors)\u001b[0m\n\u001b[0;32m   4148\u001b[0m         \u001b[1;32mfor\u001b[0m \u001b[0maxis\u001b[0m\u001b[1;33m,\u001b[0m \u001b[0mlabels\u001b[0m \u001b[1;32min\u001b[0m \u001b[0maxes\u001b[0m\u001b[1;33m.\u001b[0m\u001b[0mitems\u001b[0m\u001b[1;33m(\u001b[0m\u001b[1;33m)\u001b[0m\u001b[1;33m:\u001b[0m\u001b[1;33m\u001b[0m\u001b[1;33m\u001b[0m\u001b[0m\n\u001b[0;32m   4149\u001b[0m             \u001b[1;32mif\u001b[0m \u001b[0mlabels\u001b[0m \u001b[1;32mis\u001b[0m \u001b[1;32mnot\u001b[0m \u001b[1;32mNone\u001b[0m\u001b[1;33m:\u001b[0m\u001b[1;33m\u001b[0m\u001b[1;33m\u001b[0m\u001b[0m\n\u001b[1;32m-> 4150\u001b[1;33m                 \u001b[0mobj\u001b[0m \u001b[1;33m=\u001b[0m \u001b[0mobj\u001b[0m\u001b[1;33m.\u001b[0m\u001b[0m_drop_axis\u001b[0m\u001b[1;33m(\u001b[0m\u001b[0mlabels\u001b[0m\u001b[1;33m,\u001b[0m \u001b[0maxis\u001b[0m\u001b[1;33m,\u001b[0m \u001b[0mlevel\u001b[0m\u001b[1;33m=\u001b[0m\u001b[0mlevel\u001b[0m\u001b[1;33m,\u001b[0m \u001b[0merrors\u001b[0m\u001b[1;33m=\u001b[0m\u001b[0merrors\u001b[0m\u001b[1;33m)\u001b[0m\u001b[1;33m\u001b[0m\u001b[1;33m\u001b[0m\u001b[0m\n\u001b[0m\u001b[0;32m   4151\u001b[0m \u001b[1;33m\u001b[0m\u001b[0m\n\u001b[0;32m   4152\u001b[0m         \u001b[1;32mif\u001b[0m \u001b[0minplace\u001b[0m\u001b[1;33m:\u001b[0m\u001b[1;33m\u001b[0m\u001b[1;33m\u001b[0m\u001b[0m\n",
      "\u001b[1;32m~\\anaconda3\\lib\\site-packages\\pandas\\core\\generic.py\u001b[0m in \u001b[0;36m_drop_axis\u001b[1;34m(self, labels, axis, level, errors)\u001b[0m\n\u001b[0;32m   4183\u001b[0m                 \u001b[0mnew_axis\u001b[0m \u001b[1;33m=\u001b[0m \u001b[0maxis\u001b[0m\u001b[1;33m.\u001b[0m\u001b[0mdrop\u001b[0m\u001b[1;33m(\u001b[0m\u001b[0mlabels\u001b[0m\u001b[1;33m,\u001b[0m \u001b[0mlevel\u001b[0m\u001b[1;33m=\u001b[0m\u001b[0mlevel\u001b[0m\u001b[1;33m,\u001b[0m \u001b[0merrors\u001b[0m\u001b[1;33m=\u001b[0m\u001b[0merrors\u001b[0m\u001b[1;33m)\u001b[0m\u001b[1;33m\u001b[0m\u001b[1;33m\u001b[0m\u001b[0m\n\u001b[0;32m   4184\u001b[0m             \u001b[1;32melse\u001b[0m\u001b[1;33m:\u001b[0m\u001b[1;33m\u001b[0m\u001b[1;33m\u001b[0m\u001b[0m\n\u001b[1;32m-> 4185\u001b[1;33m                 \u001b[0mnew_axis\u001b[0m \u001b[1;33m=\u001b[0m \u001b[0maxis\u001b[0m\u001b[1;33m.\u001b[0m\u001b[0mdrop\u001b[0m\u001b[1;33m(\u001b[0m\u001b[0mlabels\u001b[0m\u001b[1;33m,\u001b[0m \u001b[0merrors\u001b[0m\u001b[1;33m=\u001b[0m\u001b[0merrors\u001b[0m\u001b[1;33m)\u001b[0m\u001b[1;33m\u001b[0m\u001b[1;33m\u001b[0m\u001b[0m\n\u001b[0m\u001b[0;32m   4186\u001b[0m             \u001b[0mresult\u001b[0m \u001b[1;33m=\u001b[0m \u001b[0mself\u001b[0m\u001b[1;33m.\u001b[0m\u001b[0mreindex\u001b[0m\u001b[1;33m(\u001b[0m\u001b[1;33m**\u001b[0m\u001b[1;33m{\u001b[0m\u001b[0maxis_name\u001b[0m\u001b[1;33m:\u001b[0m \u001b[0mnew_axis\u001b[0m\u001b[1;33m}\u001b[0m\u001b[1;33m)\u001b[0m\u001b[1;33m\u001b[0m\u001b[1;33m\u001b[0m\u001b[0m\n\u001b[0;32m   4187\u001b[0m \u001b[1;33m\u001b[0m\u001b[0m\n",
      "\u001b[1;32m~\\anaconda3\\lib\\site-packages\\pandas\\core\\indexes\\base.py\u001b[0m in \u001b[0;36mdrop\u001b[1;34m(self, labels, errors)\u001b[0m\n\u001b[0;32m   6015\u001b[0m         \u001b[1;32mif\u001b[0m \u001b[0mmask\u001b[0m\u001b[1;33m.\u001b[0m\u001b[0many\u001b[0m\u001b[1;33m(\u001b[0m\u001b[1;33m)\u001b[0m\u001b[1;33m:\u001b[0m\u001b[1;33m\u001b[0m\u001b[1;33m\u001b[0m\u001b[0m\n\u001b[0;32m   6016\u001b[0m             \u001b[1;32mif\u001b[0m \u001b[0merrors\u001b[0m \u001b[1;33m!=\u001b[0m \u001b[1;34m\"ignore\"\u001b[0m\u001b[1;33m:\u001b[0m\u001b[1;33m\u001b[0m\u001b[1;33m\u001b[0m\u001b[0m\n\u001b[1;32m-> 6017\u001b[1;33m                 \u001b[1;32mraise\u001b[0m \u001b[0mKeyError\u001b[0m\u001b[1;33m(\u001b[0m\u001b[1;34mf\"{labels[mask]} not found in axis\"\u001b[0m\u001b[1;33m)\u001b[0m\u001b[1;33m\u001b[0m\u001b[1;33m\u001b[0m\u001b[0m\n\u001b[0m\u001b[0;32m   6018\u001b[0m             \u001b[0mindexer\u001b[0m \u001b[1;33m=\u001b[0m \u001b[0mindexer\u001b[0m\u001b[1;33m[\u001b[0m\u001b[1;33m~\u001b[0m\u001b[0mmask\u001b[0m\u001b[1;33m]\u001b[0m\u001b[1;33m\u001b[0m\u001b[1;33m\u001b[0m\u001b[0m\n\u001b[0;32m   6019\u001b[0m         \u001b[1;32mreturn\u001b[0m \u001b[0mself\u001b[0m\u001b[1;33m.\u001b[0m\u001b[0mdelete\u001b[0m\u001b[1;33m(\u001b[0m\u001b[0mindexer\u001b[0m\u001b[1;33m)\u001b[0m\u001b[1;33m\u001b[0m\u001b[1;33m\u001b[0m\u001b[0m\n",
      "\u001b[1;31mKeyError\u001b[0m: \"['Unnamed: 0'] not found in axis\""
     ]
    }
   ],
   "source": [
    "df1.drop('Unnamed: 0',axis=1,inplace=True)"
   ]
  },
  {
   "cell_type": "code",
   "execution_count": null,
   "metadata": {
    "execution": {
     "iopub.execute_input": "2021-09-13T08:36:30.275918Z",
     "iopub.status.busy": "2021-09-13T08:36:30.275596Z",
     "iopub.status.idle": "2021-09-13T08:36:30.281623Z",
     "shell.execute_reply": "2021-09-13T08:36:30.279911Z",
     "shell.execute_reply.started": "2021-09-13T08:36:30.275889Z"
    }
   },
   "outputs": [],
   "source": [
    "df1.reset_index(drop=True,inplace=True)"
   ]
  },
  {
   "cell_type": "code",
   "execution_count": null,
   "metadata": {
    "execution": {
     "iopub.execute_input": "2021-09-13T08:36:32.217918Z",
     "iopub.status.busy": "2021-09-13T08:36:32.217498Z",
     "iopub.status.idle": "2021-09-13T08:36:32.237528Z",
     "shell.execute_reply": "2021-09-13T08:36:32.235792Z",
     "shell.execute_reply.started": "2021-09-13T08:36:32.217890Z"
    }
   },
   "outputs": [],
   "source": [
    "df1=df1.dropna()\n",
    "df1"
   ]
  },
  {
   "cell_type": "code",
   "execution_count": null,
   "metadata": {
    "execution": {
     "iopub.execute_input": "2021-09-13T08:36:32.409246Z",
     "iopub.status.busy": "2021-09-13T08:36:32.408908Z",
     "iopub.status.idle": "2021-09-13T08:36:32.425077Z",
     "shell.execute_reply": "2021-09-13T08:36:32.423767Z",
     "shell.execute_reply.started": "2021-09-13T08:36:32.409202Z"
    }
   },
   "outputs": [],
   "source": [
    "frames=[df,df1]\n",
    "df_final=pd.concat(frames)\n",
    "df_final"
   ]
  },
  {
   "cell_type": "code",
   "execution_count": null,
   "metadata": {
    "execution": {
     "iopub.execute_input": "2021-09-13T08:36:32.595178Z",
     "iopub.status.busy": "2021-09-13T08:36:32.594865Z",
     "iopub.status.idle": "2021-09-13T08:36:32.601770Z",
     "shell.execute_reply": "2021-09-13T08:36:32.600371Z",
     "shell.execute_reply.started": "2021-09-13T08:36:32.595129Z"
    }
   },
   "outputs": [],
   "source": [
    "df_final.reset_index(drop=True,inplace=True)"
   ]
  },
  {
   "cell_type": "code",
   "execution_count": null,
   "metadata": {
    "execution": {
     "iopub.execute_input": "2021-09-13T08:36:37.300362Z",
     "iopub.status.busy": "2021-09-13T08:36:37.299973Z",
     "iopub.status.idle": "2021-09-13T08:36:37.312719Z",
     "shell.execute_reply": "2021-09-13T08:36:37.311070Z",
     "shell.execute_reply.started": "2021-09-13T08:36:37.300301Z"
    }
   },
   "outputs": [],
   "source": [
    "df_final['Annotation'].value_counts()"
   ]
  },
  {
   "cell_type": "code",
   "execution_count": null,
   "metadata": {
    "execution": {
     "iopub.execute_input": "2021-09-13T08:36:39.333840Z",
     "iopub.status.busy": "2021-09-13T08:36:39.333380Z",
     "iopub.status.idle": "2021-09-13T08:36:39.344198Z",
     "shell.execute_reply": "2021-09-13T08:36:39.342944Z",
     "shell.execute_reply.started": "2021-09-13T08:36:39.333809Z"
    }
   },
   "outputs": [],
   "source": [
    "event_dictionary ={1 : True, 2 : True, 3 : False}\n",
    "df_final['Islamophobic'] = df_final['Annotation'].map(event_dictionary)\n"
   ]
  },
  {
   "cell_type": "code",
   "execution_count": null,
   "metadata": {
    "execution": {
     "iopub.execute_input": "2021-09-13T08:36:40.626900Z",
     "iopub.status.busy": "2021-09-13T08:36:40.626513Z",
     "iopub.status.idle": "2021-09-13T08:36:40.638316Z",
     "shell.execute_reply": "2021-09-13T08:36:40.635355Z",
     "shell.execute_reply.started": "2021-09-13T08:36:40.626859Z"
    }
   },
   "outputs": [],
   "source": [
    "df_final['Islamophobic'].value_counts()"
   ]
  },
  {
   "cell_type": "code",
   "execution_count": null,
   "metadata": {
    "execution": {
     "iopub.execute_input": "2021-09-13T08:36:41.900816Z",
     "iopub.status.busy": "2021-09-13T08:36:41.900313Z",
     "iopub.status.idle": "2021-09-13T08:36:41.918774Z",
     "shell.execute_reply": "2021-09-13T08:36:41.916880Z",
     "shell.execute_reply.started": "2021-09-13T08:36:41.900783Z"
    }
   },
   "outputs": [],
   "source": [
    "df_final"
   ]
  },
  {
   "cell_type": "code",
   "execution_count": null,
   "metadata": {
    "execution": {
     "iopub.execute_input": "2021-09-13T08:48:16.302915Z",
     "iopub.status.busy": "2021-09-13T08:48:16.302523Z",
     "iopub.status.idle": "2021-09-13T08:48:16.310154Z",
     "shell.execute_reply": "2021-09-13T08:48:16.308963Z",
     "shell.execute_reply.started": "2021-09-13T08:48:16.302885Z"
    }
   },
   "outputs": [],
   "source": [
    "df_final['Tweet']=df_final['Text'].str.lower()"
   ]
  },
  {
   "cell_type": "code",
   "execution_count": null,
   "metadata": {
    "execution": {
     "iopub.execute_input": "2021-09-13T08:49:16.487089Z",
     "iopub.status.busy": "2021-09-13T08:49:16.486731Z",
     "iopub.status.idle": "2021-09-13T08:49:16.523644Z",
     "shell.execute_reply": "2021-09-13T08:49:16.522415Z",
     "shell.execute_reply.started": "2021-09-13T08:49:16.487050Z"
    }
   },
   "outputs": [],
   "source": [
    "df_final.Tweet = df_final.Text.apply(lambda x: re.sub(r'https?:\\/\\/\\S+', '', x))\n",
    "df_final.Tweet.apply(lambda x: re.sub(r\"www\\.[a-z]?\\.?(com)+|[a-z]+\\.(com)\", '', x))"
   ]
  },
  {
   "cell_type": "code",
   "execution_count": null,
   "metadata": {
    "execution": {
     "iopub.execute_input": "2021-09-13T09:01:36.175046Z",
     "iopub.status.busy": "2021-09-13T09:01:36.174531Z",
     "iopub.status.idle": "2021-09-13T09:01:36.700140Z",
     "shell.execute_reply": "2021-09-13T09:01:36.698995Z",
     "shell.execute_reply.started": "2021-09-13T09:01:36.175002Z"
    }
   },
   "outputs": [],
   "source": [
    "for i in range(0,len(df_final)):\n",
    "    x=df_final.loc[i,'Text']\n",
    "    y=' '.join(re.sub(\"(@[A-Za-z0-9]+)|([^0-9A-Za-z \\t])|(\\w+:\\/\\/\\S+)\",\" \",x).split())\n",
    "    df_final.loc[i,'Clean']=y\n"
   ]
  },
  {
   "cell_type": "code",
   "execution_count": null,
   "metadata": {
    "execution": {
     "iopub.execute_input": "2021-09-13T09:01:44.762965Z",
     "iopub.status.busy": "2021-09-13T09:01:44.762626Z",
     "iopub.status.idle": "2021-09-13T09:01:44.785139Z",
     "shell.execute_reply": "2021-09-13T09:01:44.783564Z",
     "shell.execute_reply.started": "2021-09-13T09:01:44.762936Z"
    }
   },
   "outputs": [],
   "source": [
    "df_final"
   ]
  },
  {
   "cell_type": "code",
   "execution_count": null,
   "metadata": {
    "execution": {
     "iopub.execute_input": "2021-09-13T09:01:53.561587Z",
     "iopub.status.busy": "2021-09-13T09:01:53.561180Z",
     "iopub.status.idle": "2021-09-13T09:01:53.567358Z",
     "shell.execute_reply": "2021-09-13T09:01:53.565894Z",
     "shell.execute_reply.started": "2021-09-13T09:01:53.561556Z"
    }
   },
   "outputs": [],
   "source": [
    "from fastai.text.all import *\n"
   ]
  },
  {
   "cell_type": "code",
   "execution_count": null,
   "metadata": {
    "execution": {
     "iopub.execute_input": "2021-09-13T09:02:22.335268Z",
     "iopub.status.busy": "2021-09-13T09:02:22.334860Z",
     "iopub.status.idle": "2021-09-13T09:02:22.341382Z",
     "shell.execute_reply": "2021-09-13T09:02:22.339882Z",
     "shell.execute_reply.started": "2021-09-13T09:02:22.335205Z"
    }
   },
   "outputs": [],
   "source": [
    "df_text=df_final['Clean']\n"
   ]
  },
  {
   "cell_type": "code",
   "execution_count": null,
   "metadata": {
    "execution": {
     "iopub.execute_input": "2021-09-13T09:02:23.481205Z",
     "iopub.status.busy": "2021-09-13T09:02:23.480852Z",
     "iopub.status.idle": "2021-09-13T09:02:23.499317Z",
     "shell.execute_reply": "2021-09-13T09:02:23.497535Z",
     "shell.execute_reply.started": "2021-09-13T09:02:23.481161Z"
    }
   },
   "outputs": [],
   "source": [
    "df_text=df_text.to_frame()\n",
    "df_text"
   ]
  },
  {
   "cell_type": "code",
   "execution_count": null,
   "metadata": {
    "execution": {
     "iopub.execute_input": "2021-09-13T09:02:45.722360Z",
     "iopub.status.busy": "2021-09-13T09:02:45.721959Z",
     "iopub.status.idle": "2021-09-13T09:02:46.131036Z",
     "shell.execute_reply": "2021-09-13T09:02:46.129909Z",
     "shell.execute_reply.started": "2021-09-13T09:02:45.722327Z"
    }
   },
   "outputs": [],
   "source": [
    "dls_lm = DataBlock(\n",
    "    blocks=TextBlock.from_df('Clean', is_lm=True),\n",
    "    get_x=ColReader('text'), \n",
    "    splitter=RandomSplitter(0.1) \n",
    "    # using only 10% of entire comments data for validation inorder to learn more\n",
    ")"
   ]
  },
  {
   "cell_type": "code",
   "execution_count": null,
   "metadata": {
    "execution": {
     "iopub.execute_input": "2021-09-13T09:02:47.279966Z",
     "iopub.status.busy": "2021-09-13T09:02:47.279484Z",
     "iopub.status.idle": "2021-09-13T09:02:48.904790Z",
     "shell.execute_reply": "2021-09-13T09:02:48.903618Z",
     "shell.execute_reply.started": "2021-09-13T09:02:47.279934Z"
    }
   },
   "outputs": [],
   "source": [
    "dls_lm = dls_lm.dataloaders(df_text, bs=128,eq_len=80)\n"
   ]
  },
  {
   "cell_type": "code",
   "execution_count": null,
   "metadata": {
    "execution": {
     "iopub.execute_input": "2021-09-13T09:02:50.689199Z",
     "iopub.status.busy": "2021-09-13T09:02:50.688773Z",
     "iopub.status.idle": "2021-09-13T09:02:51.113163Z",
     "shell.execute_reply": "2021-09-13T09:02:51.111828Z",
     "shell.execute_reply.started": "2021-09-13T09:02:50.689152Z"
    }
   },
   "outputs": [],
   "source": [
    "dls_lm.show_batch(max_n=3)\n"
   ]
  },
  {
   "cell_type": "code",
   "execution_count": null,
   "metadata": {
    "execution": {
     "iopub.execute_input": "2021-09-13T09:02:53.480886Z",
     "iopub.status.busy": "2021-09-13T09:02:53.480502Z",
     "iopub.status.idle": "2021-09-13T09:02:53.986440Z",
     "shell.execute_reply": "2021-09-13T09:02:53.985292Z",
     "shell.execute_reply.started": "2021-09-13T09:02:53.480855Z"
    }
   },
   "outputs": [],
   "source": [
    "learn = language_model_learner(\n",
    "    dls_lm, AWD_LSTM,drop_mult=0.3,\n",
    "    metrics=[accuracy, Perplexity()]).to_fp16()"
   ]
  },
  {
   "cell_type": "code",
   "execution_count": null,
   "metadata": {
    "execution": {
     "iopub.execute_input": "2021-09-13T09:02:56.272948Z",
     "iopub.status.busy": "2021-09-13T09:02:56.272516Z",
     "iopub.status.idle": "2021-09-13T09:03:51.187648Z",
     "shell.execute_reply": "2021-09-13T09:03:51.186578Z",
     "shell.execute_reply.started": "2021-09-13T09:02:56.272918Z"
    }
   },
   "outputs": [],
   "source": [
    "learn.lr_find()\n"
   ]
  },
  {
   "cell_type": "code",
   "execution_count": null,
   "metadata": {
    "execution": {
     "iopub.execute_input": "2021-09-13T09:03:57.202591Z",
     "iopub.status.busy": "2021-09-13T09:03:57.202190Z",
     "iopub.status.idle": "2021-09-13T09:03:59.022939Z",
     "shell.execute_reply": "2021-09-13T09:03:59.021798Z",
     "shell.execute_reply.started": "2021-09-13T09:03:57.202559Z"
    }
   },
   "outputs": [],
   "source": [
    "learn.fit_one_cycle(1, 2e-2)\n"
   ]
  },
  {
   "cell_type": "code",
   "execution_count": null,
   "metadata": {
    "execution": {
     "iopub.execute_input": "2021-09-13T09:04:02.601832Z",
     "iopub.status.busy": "2021-09-13T09:04:02.601376Z",
     "iopub.status.idle": "2021-09-13T09:04:02.860338Z",
     "shell.execute_reply": "2021-09-13T09:04:02.858765Z",
     "shell.execute_reply.started": "2021-09-13T09:04:02.601799Z"
    }
   },
   "outputs": [],
   "source": [
    "learn.save('1epoch')\n"
   ]
  },
  {
   "cell_type": "code",
   "execution_count": null,
   "metadata": {
    "execution": {
     "iopub.execute_input": "2021-09-13T09:04:04.069435Z",
     "iopub.status.busy": "2021-09-13T09:04:04.068957Z",
     "iopub.status.idle": "2021-09-13T09:04:58.678545Z",
     "shell.execute_reply": "2021-09-13T09:04:58.677056Z",
     "shell.execute_reply.started": "2021-09-13T09:04:04.069403Z"
    }
   },
   "outputs": [],
   "source": [
    "learn.lr_find()\n"
   ]
  },
  {
   "cell_type": "code",
   "execution_count": null,
   "metadata": {
    "execution": {
     "iopub.execute_input": "2021-09-13T09:05:10.514145Z",
     "iopub.status.busy": "2021-09-13T09:05:10.513782Z",
     "iopub.status.idle": "2021-09-13T09:05:29.969753Z",
     "shell.execute_reply": "2021-09-13T09:05:29.968160Z",
     "shell.execute_reply.started": "2021-09-13T09:05:10.514113Z"
    }
   },
   "outputs": [],
   "source": [
    "learn.unfreeze()\n",
    "learn.fit_one_cycle(10)"
   ]
  },
  {
   "cell_type": "code",
   "execution_count": null,
   "metadata": {
    "execution": {
     "iopub.execute_input": "2021-09-13T09:05:46.681635Z",
     "iopub.status.busy": "2021-09-13T09:05:46.681249Z",
     "iopub.status.idle": "2021-09-13T09:05:46.917886Z",
     "shell.execute_reply": "2021-09-13T09:05:46.916464Z",
     "shell.execute_reply.started": "2021-09-13T09:05:46.681605Z"
    }
   },
   "outputs": [],
   "source": [
    "learn.save_encoder('finetuned')\n"
   ]
  },
  {
   "cell_type": "code",
   "execution_count": null,
   "metadata": {
    "execution": {
     "iopub.execute_input": "2021-09-13T09:05:48.849731Z",
     "iopub.status.busy": "2021-09-13T09:05:48.849257Z",
     "iopub.status.idle": "2021-09-13T09:05:49.285467Z",
     "shell.execute_reply": "2021-09-13T09:05:49.284121Z",
     "shell.execute_reply.started": "2021-09-13T09:05:48.849698Z"
    }
   },
   "outputs": [],
   "source": [
    "TEXT = \"i\"\n",
    "N_WORDS = 10\n",
    "N_SENTENCES = 2\n",
    "preds = [learn.predict(TEXT, N_WORDS, temperature=0.75) \n",
    "         for _ in range(N_SENTENCES)]"
   ]
  },
  {
   "cell_type": "code",
   "execution_count": null,
   "metadata": {
    "execution": {
     "iopub.execute_input": "2021-09-13T09:05:50.769793Z",
     "iopub.status.busy": "2021-09-13T09:05:50.769314Z",
     "iopub.status.idle": "2021-09-13T09:05:50.780423Z",
     "shell.execute_reply": "2021-09-13T09:05:50.779263Z",
     "shell.execute_reply.started": "2021-09-13T09:05:50.769758Z"
    }
   },
   "outputs": [],
   "source": [
    "print(\"\\n\".join(preds))\n"
   ]
  },
  {
   "cell_type": "code",
   "execution_count": null,
   "metadata": {
    "execution": {
     "iopub.execute_input": "2021-09-13T09:05:58.636495Z",
     "iopub.status.busy": "2021-09-13T09:05:58.636079Z",
     "iopub.status.idle": "2021-09-13T09:05:58.646742Z",
     "shell.execute_reply": "2021-09-13T09:05:58.645215Z",
     "shell.execute_reply.started": "2021-09-13T09:05:58.636462Z"
    }
   },
   "outputs": [],
   "source": [
    "df_hate=df_final[df_final.Islamophobic==True]\n",
    "df_neither=df_final[df_final.Islamophobic==False]"
   ]
  },
  {
   "cell_type": "code",
   "execution_count": null,
   "metadata": {
    "execution": {
     "iopub.execute_input": "2021-09-13T09:05:59.755838Z",
     "iopub.status.busy": "2021-09-13T09:05:59.755470Z",
     "iopub.status.idle": "2021-09-13T09:05:59.762233Z",
     "shell.execute_reply": "2021-09-13T09:05:59.761034Z",
     "shell.execute_reply.started": "2021-09-13T09:05:59.755806Z"
    }
   },
   "outputs": [],
   "source": [
    "rows3 = np.random.choice(df_neither.index.values, 200)\n",
    "df_neither=df_neither.loc[rows3]\n"
   ]
  },
  {
   "cell_type": "code",
   "execution_count": null,
   "metadata": {
    "execution": {
     "iopub.execute_input": "2021-09-13T09:06:04.275031Z",
     "iopub.status.busy": "2021-09-13T09:06:04.274589Z",
     "iopub.status.idle": "2021-09-13T09:06:04.307272Z",
     "shell.execute_reply": "2021-09-13T09:06:04.306080Z",
     "shell.execute_reply.started": "2021-09-13T09:06:04.274997Z"
    }
   },
   "outputs": [],
   "source": [
    "li=[df_hate,df_neither]\n",
    "df_new=pd.concat(li)\n",
    "df_new"
   ]
  },
  {
   "cell_type": "code",
   "execution_count": null,
   "metadata": {
    "execution": {
     "iopub.execute_input": "2021-09-13T09:06:48.415806Z",
     "iopub.status.busy": "2021-09-13T09:06:48.415434Z",
     "iopub.status.idle": "2021-09-13T09:06:48.426464Z",
     "shell.execute_reply": "2021-09-13T09:06:48.424854Z",
     "shell.execute_reply.started": "2021-09-13T09:06:48.415773Z"
    }
   },
   "outputs": [],
   "source": [
    "df_new.drop(['Annotation','Text','Tweet'],axis=1,inplace=True)"
   ]
  },
  {
   "cell_type": "code",
   "execution_count": null,
   "metadata": {
    "execution": {
     "iopub.execute_input": "2021-09-13T09:06:50.560436Z",
     "iopub.status.busy": "2021-09-13T09:06:50.559919Z",
     "iopub.status.idle": "2021-09-13T09:06:50.579090Z",
     "shell.execute_reply": "2021-09-13T09:06:50.577408Z",
     "shell.execute_reply.started": "2021-09-13T09:06:50.560387Z"
    }
   },
   "outputs": [],
   "source": [
    "df_new.reset_index(drop=True,inplace=True)\n",
    "df_new"
   ]
  },
  {
   "cell_type": "code",
   "execution_count": null,
   "metadata": {
    "execution": {
     "iopub.execute_input": "2021-09-13T09:06:59.001545Z",
     "iopub.status.busy": "2021-09-13T09:06:59.001119Z",
     "iopub.status.idle": "2021-09-13T09:06:59.011036Z",
     "shell.execute_reply": "2021-09-13T09:06:59.009753Z",
     "shell.execute_reply.started": "2021-09-13T09:06:59.001514Z"
    }
   },
   "outputs": [],
   "source": [
    "df_new = df_new.sample(frac=1).reset_index(drop=True)\n"
   ]
  },
  {
   "cell_type": "code",
   "execution_count": null,
   "metadata": {
    "execution": {
     "iopub.execute_input": "2021-09-13T09:07:07.775371Z",
     "iopub.status.busy": "2021-09-13T09:07:07.774879Z",
     "iopub.status.idle": "2021-09-13T09:07:09.284364Z",
     "shell.execute_reply": "2021-09-13T09:07:09.281387Z",
     "shell.execute_reply.started": "2021-09-13T09:07:07.775325Z"
    }
   },
   "outputs": [],
   "source": [
    "dls = TextDataLoaders.from_df(df_new, text_col='Clean', label_col='Islamophobic',valid_pct=0.1,text_vocab=dls_lm.vocab)"
   ]
  },
  {
   "cell_type": "code",
   "execution_count": null,
   "metadata": {
    "execution": {
     "iopub.execute_input": "2021-09-13T09:07:11.562722Z",
     "iopub.status.busy": "2021-09-13T09:07:11.562354Z",
     "iopub.status.idle": "2021-09-13T09:07:11.698552Z",
     "shell.execute_reply": "2021-09-13T09:07:11.697123Z",
     "shell.execute_reply.started": "2021-09-13T09:07:11.562688Z"
    }
   },
   "outputs": [],
   "source": [
    "dls.show_batch(max_n=3)\n"
   ]
  },
  {
   "cell_type": "code",
   "execution_count": null,
   "metadata": {
    "execution": {
     "iopub.execute_input": "2021-09-13T09:07:15.730808Z",
     "iopub.status.busy": "2021-09-13T09:07:15.730363Z",
     "iopub.status.idle": "2021-09-13T09:07:16.259839Z",
     "shell.execute_reply": "2021-09-13T09:07:16.258541Z",
     "shell.execute_reply.started": "2021-09-13T09:07:15.730777Z"
    }
   },
   "outputs": [],
   "source": [
    "learn = text_classifier_learner(dls,AWD_LSTM,metrics=accuracy,\n",
    "                                drop_mult=0.5).to_fp16()"
   ]
  },
  {
   "cell_type": "code",
   "execution_count": null,
   "metadata": {
    "execution": {
     "iopub.execute_input": "2021-09-13T09:07:17.875335Z",
     "iopub.status.busy": "2021-09-13T09:07:17.874861Z",
     "iopub.status.idle": "2021-09-13T09:07:17.942852Z",
     "shell.execute_reply": "2021-09-13T09:07:17.941716Z",
     "shell.execute_reply.started": "2021-09-13T09:07:17.875285Z"
    }
   },
   "outputs": [],
   "source": [
    "learn = learn.load_encoder('finetuned')\n"
   ]
  },
  {
   "cell_type": "code",
   "execution_count": null,
   "metadata": {
    "execution": {
     "iopub.execute_input": "2021-09-13T09:07:19.015248Z",
     "iopub.status.busy": "2021-09-13T09:07:19.014812Z",
     "iopub.status.idle": "2021-09-13T09:07:35.413225Z",
     "shell.execute_reply": "2021-09-13T09:07:35.412072Z",
     "shell.execute_reply.started": "2021-09-13T09:07:19.015218Z"
    }
   },
   "outputs": [],
   "source": [
    "learn.lr_find()\n"
   ]
  },
  {
   "cell_type": "code",
   "execution_count": null,
   "metadata": {
    "execution": {
     "iopub.execute_input": "2021-09-13T09:07:43.162234Z",
     "iopub.status.busy": "2021-09-13T09:07:43.161789Z",
     "iopub.status.idle": "2021-09-13T09:07:44.189220Z",
     "shell.execute_reply": "2021-09-13T09:07:44.187873Z",
     "shell.execute_reply.started": "2021-09-13T09:07:43.162198Z"
    }
   },
   "outputs": [],
   "source": [
    "learn.fit_one_cycle(1,1e-2)\n"
   ]
  },
  {
   "cell_type": "code",
   "execution_count": null,
   "metadata": {
    "execution": {
     "iopub.execute_input": "2021-09-13T09:07:48.724941Z",
     "iopub.status.busy": "2021-09-13T09:07:48.724522Z",
     "iopub.status.idle": "2021-09-13T09:07:48.732471Z",
     "shell.execute_reply": "2021-09-13T09:07:48.730738Z",
     "shell.execute_reply.started": "2021-09-13T09:07:48.724899Z"
    }
   },
   "outputs": [],
   "source": [
    "learn.freeze_to(-2)\n",
    "# learn.fit_one_cycle(1, slice(1e-2/(2.6**4),1e-2))\n",
    "#learn.lr_find()\n"
   ]
  },
  {
   "cell_type": "code",
   "execution_count": null,
   "metadata": {
    "execution": {
     "iopub.execute_input": "2021-09-13T09:07:49.833916Z",
     "iopub.status.busy": "2021-09-13T09:07:49.833544Z",
     "iopub.status.idle": "2021-09-13T09:08:07.087027Z",
     "shell.execute_reply": "2021-09-13T09:08:07.085810Z",
     "shell.execute_reply.started": "2021-09-13T09:07:49.833884Z"
    }
   },
   "outputs": [],
   "source": [
    "learn.lr_find()\n"
   ]
  },
  {
   "cell_type": "code",
   "execution_count": null,
   "metadata": {
    "execution": {
     "iopub.execute_input": "2021-09-13T09:08:10.146811Z",
     "iopub.status.busy": "2021-09-13T09:08:10.146433Z",
     "iopub.status.idle": "2021-09-13T09:08:11.158155Z",
     "shell.execute_reply": "2021-09-13T09:08:11.156786Z",
     "shell.execute_reply.started": "2021-09-13T09:08:10.146777Z"
    }
   },
   "outputs": [],
   "source": [
    "learn.fit_one_cycle(1)"
   ]
  },
  {
   "cell_type": "code",
   "execution_count": null,
   "metadata": {
    "execution": {
     "iopub.execute_input": "2021-09-13T09:08:14.283155Z",
     "iopub.status.busy": "2021-09-13T09:08:14.282806Z",
     "iopub.status.idle": "2021-09-13T09:08:31.914568Z",
     "shell.execute_reply": "2021-09-13T09:08:31.913418Z",
     "shell.execute_reply.started": "2021-09-13T09:08:14.283122Z"
    }
   },
   "outputs": [],
   "source": [
    "learn.freeze_to(-3)\n",
    "# learn.fit_one_cycle(1, slice(5e-3/(2.6**4),5e-3))\n",
    "learn.lr_find()\n"
   ]
  },
  {
   "cell_type": "code",
   "execution_count": null,
   "metadata": {
    "execution": {
     "iopub.execute_input": "2021-09-13T09:08:37.133660Z",
     "iopub.status.busy": "2021-09-13T09:08:37.132988Z",
     "iopub.status.idle": "2021-09-13T09:08:38.227722Z",
     "shell.execute_reply": "2021-09-13T09:08:38.226551Z",
     "shell.execute_reply.started": "2021-09-13T09:08:37.133629Z"
    }
   },
   "outputs": [],
   "source": [
    "learn.fit_one_cycle(1)"
   ]
  },
  {
   "cell_type": "code",
   "execution_count": null,
   "metadata": {
    "execution": {
     "iopub.execute_input": "2021-09-13T09:08:40.210675Z",
     "iopub.status.busy": "2021-09-13T09:08:40.210275Z",
     "iopub.status.idle": "2021-09-13T09:08:59.270786Z",
     "shell.execute_reply": "2021-09-13T09:08:59.269629Z",
     "shell.execute_reply.started": "2021-09-13T09:08:40.210641Z"
    }
   },
   "outputs": [],
   "source": [
    "learn.unfreeze()\n",
    "# learn.fit_one_cycle(5, slice(1e-3/(2.6**4),1e-3))\n",
    "# learn.fit_one_cycle(1, slice(5e-3/(2.6**4),5e-3))\n",
    "learn.lr_find()\n"
   ]
  },
  {
   "cell_type": "code",
   "execution_count": null,
   "metadata": {
    "execution": {
     "iopub.execute_input": "2021-09-13T09:09:12.041993Z",
     "iopub.status.busy": "2021-09-13T09:09:12.041525Z",
     "iopub.status.idle": "2021-09-13T09:09:17.897364Z",
     "shell.execute_reply": "2021-09-13T09:09:17.896191Z",
     "shell.execute_reply.started": "2021-09-13T09:09:12.041941Z"
    }
   },
   "outputs": [],
   "source": [
    "learn.fit_one_cycle(5)"
   ]
  },
  {
   "cell_type": "code",
   "execution_count": null,
   "metadata": {
    "execution": {
     "iopub.execute_input": "2021-09-13T09:09:21.458674Z",
     "iopub.status.busy": "2021-09-13T09:09:21.458270Z",
     "iopub.status.idle": "2021-09-13T09:09:21.986756Z",
     "shell.execute_reply": "2021-09-13T09:09:21.985603Z",
     "shell.execute_reply.started": "2021-09-13T09:09:21.458640Z"
    }
   },
   "outputs": [],
   "source": [
    "interp = ClassificationInterpretation.from_learner(learn)\n",
    "interp.plot_confusion_matrix(figsize=(12,12), dpi=60)"
   ]
  },
  {
   "cell_type": "code",
   "execution_count": null,
   "metadata": {
    "execution": {
     "iopub.execute_input": "2021-09-13T09:09:27.642414Z",
     "iopub.status.busy": "2021-09-13T09:09:27.641964Z",
     "iopub.status.idle": "2021-09-13T09:09:27.659679Z",
     "shell.execute_reply": "2021-09-13T09:09:27.657903Z",
     "shell.execute_reply.started": "2021-09-13T09:09:27.642377Z"
    }
   },
   "outputs": [],
   "source": [
    "interp.print_classification_report()"
   ]
  },
  {
   "cell_type": "code",
   "execution_count": null,
   "metadata": {},
   "outputs": [],
   "source": []
  }
 ],
 "metadata": {
  "kernelspec": {
   "display_name": "Python 3 (ipykernel)",
   "language": "python",
   "name": "python3"
  },
  "language_info": {
   "codemirror_mode": {
    "name": "ipython",
    "version": 3
   },
   "file_extension": ".py",
   "mimetype": "text/x-python",
   "name": "python",
   "nbconvert_exporter": "python",
   "pygments_lexer": "ipython3",
   "version": "3.9.7"
  }
 },
 "nbformat": 4,
 "nbformat_minor": 4
}
